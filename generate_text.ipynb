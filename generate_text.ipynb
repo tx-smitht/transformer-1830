{
 "cells": [
  {
   "cell_type": "code",
   "execution_count": 1,
   "metadata": {},
   "outputs": [
    {
     "name": "stdout",
     "output_type": "stream",
     "text": [
      "Using device: privateuseone:0\n",
      "Using device: privateuseone:0\n"
     ]
    }
   ],
   "source": [
    "import torch\n",
    "import torch_directml\n",
    "from transformer import DecoderTransformer, CharacterTokenizer\n",
    "\n",
    "# Set device\n",
    "device = torch_directml.device()\n",
    "print(f\"Using device: {device}\")"
   ]
  },
  {
   "cell_type": "code",
   "execution_count": 2,
   "metadata": {},
   "outputs": [],
   "source": [
    "# Initialize tokenizer with the same text used for training\n",
    "# Replace this path with your training data path\n",
    "with open('data/book_of_mormon.txt', 'r', encoding='utf-8') as f:\n",
    "    text = f.read()\n",
    "\n",
    "tokenizer = CharacterTokenizer()\n",
    "tokenizer.fit(text)"
   ]
  },
  {
   "cell_type": "code",
   "execution_count": 3,
   "metadata": {},
   "outputs": [
    {
     "name": "stderr",
     "output_type": "stream",
     "text": [
      "C:\\Users\\txsmi\\AppData\\Local\\Temp\\ipykernel_18772\\537210553.py:18: FutureWarning: You are using `torch.load` with `weights_only=False` (the current default value), which uses the default pickle module implicitly. It is possible to construct malicious pickle data which will execute arbitrary code during unpickling (See https://github.com/pytorch/pytorch/blob/main/SECURITY.md#untrusted-models for more details). In a future release, the default value for `weights_only` will be flipped to `True`. This limits the functions that could be executed during unpickling. Arbitrary objects will no longer be allowed to be loaded via this mode unless they are explicitly allowlisted by the user via `torch.serialization.add_safe_globals`. We recommend you start setting `weights_only=True` for any use case where you don't have full control of the loaded file. Please open an issue on GitHub for any issues related to this experimental feature.\n",
      "  model.load_state_dict(torch.load('final_model.pth'), strict=False)\n"
     ]
    },
    {
     "data": {
      "text/plain": [
       "<All keys matched successfully>"
      ]
     },
     "execution_count": 3,
     "metadata": {},
     "output_type": "execute_result"
    }
   ],
   "source": [
    "# Model architecture parameters\n",
    "block_size = 256     # Maximum sequence length the model can process (context window)\n",
    "n_embd = 256       # Dimension of embedding vectors and hidden layers\n",
    "n_head = 1          # Number of attention heads in multi-head attention\n",
    "n_layer = 2         # Number of transformer blocks stacked together\n",
    "dropout = 0.2       # Probability of dropping connections during training to prevent overfitting\n",
    "\n",
    "# Initialize and load the model\n",
    "model = DecoderTransformer(\n",
    "    vocab_size=tokenizer.vocab_size,\n",
    "    n_embd=n_embd,\n",
    "    n_head=n_head,\n",
    "    n_layer=n_layer,\n",
    "    block_size=block_size,\n",
    "    dropout=dropout\n",
    ").to(device)\n",
    "\n",
    "model.load_state_dict(torch.load('final_model.pth'), strict=False)"
   ]
  },
  {
   "cell_type": "code",
   "execution_count": 4,
   "metadata": {},
   "outputs": [],
   "source": [
    "def generate_text(prompt, max_new_tokens=100, temperature=0.8, top_k=10):\n",
    "    # Encode the prompt\n",
    "    encoded = tokenizer.encode(prompt)\n",
    "    context = torch.tensor([encoded], dtype=torch.long, device=device)\n",
    "    \n",
    "    # Generate new tokens\n",
    "    generated = model.generate(\n",
    "        context,\n",
    "        max_new_tokens=max_new_tokens,\n",
    "        temperature=temperature,\n",
    "        top_k=top_k\n",
    "    )\n",
    "    \n",
    "    # Decode and return the result\n",
    "    return tokenizer.decode(generated[0].tolist())"
   ]
  },
  {
   "cell_type": "code",
   "execution_count": 9,
   "metadata": {},
   "outputs": [
    {
     "name": "stdout",
     "output_type": "stream",
     "text": [
      " on hat toracited th the prissnnites; fore to be word he theire shold, als tar be als the age prosent\n"
     ]
    }
   ],
   "source": [
    "# Test the text generation\n",
    "prompt = \" \"\n",
    "generated_text = generate_text(\n",
    "    prompt,\n",
    "    max_new_tokens=100,\n",
    "    temperature=0.8,\n",
    "    top_k=10\n",
    ")\n",
    "print(generated_text)"
   ]
  }
 ],
 "metadata": {
  "kernelspec": {
   "display_name": "transformer",
   "language": "python",
   "name": "python3"
  },
  "language_info": {
   "codemirror_mode": {
    "name": "ipython",
    "version": 3
   },
   "file_extension": ".py",
   "mimetype": "text/x-python",
   "name": "python",
   "nbconvert_exporter": "python",
   "pygments_lexer": "ipython3",
   "version": "3.11.11"
  }
 },
 "nbformat": 4,
 "nbformat_minor": 2
}
