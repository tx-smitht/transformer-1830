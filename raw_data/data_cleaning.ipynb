{
 "cells": [
  {
   "cell_type": "code",
   "execution_count": 6,
   "metadata": {},
   "outputs": [],
   "source": [
    "filename = \"dictionary.txt\"\n",
    "cleaned_filename = \"../data/cleaned_dictionary.txt\""
   ]
  },
  {
   "cell_type": "code",
   "execution_count": 7,
   "metadata": {},
   "outputs": [
    {
     "name": "stdout",
     "output_type": "stream",
     "text": [
      "Cleaned text saved in '../data/cleaned_dictionary.txt'.\n"
     ]
    }
   ],
   "source": [
    "import re\n",
    "\n",
    "\n",
    "# Read the file\n",
    "with open(filename, \"r\", encoding=\"utf-8\") as file:\n",
    "    text = file.read()\n",
    "\n",
    "# Remove page numbers (standalone numbers at the end of lines)\n",
    "text = re.sub(r\"\\s*\\d+\\s*$\", \"\", text, flags=re.MULTILINE)\n",
    "\n",
    "# Remove any capitalized word followed by a period at the end of lines\n",
    "text = re.sub(r\"\\s+[A-Z]+\\.\\s*$\", \"\", text, flags=re.MULTILINE)\n",
    "\n",
    "# Remove etymology and pronunciation parts in brackets (e.g., [L. infans...], [dis and lodge.])\n",
    "text = re.sub(r\"\\[.*?\\]\", \"\", text)\n",
    "\n",
    "# Remove part of speech (e.g., \"n.\", \"v.\", \"v. t.\", \"a.\", \"adv.\", \"pp.\", \"ppr.\")\n",
    "text = re.sub(r\"\\b(?:n|v|v\\.t|v\\.i|a|adv|i|ji|t|pp|ppr)\\.\\s*\", \"\", text, flags=re.IGNORECASE)\n",
    "\n",
    "# Remove WW/AD-style tags (handles variations like VW/AD, WWAD, VWW/AD, etc.)\n",
    "text = re.sub(r\"\\b[A-Z]{2,4}/?AD\\b\", \"\", text)\n",
    "\n",
    "# Remove extra spaces and multiple newlines\n",
    "text = re.sub(r\"\\n\\s*\\n\", \"\\n\", text).strip()\n",
    "\n",
    "# Find and replace \"/\\\" with nothing\n",
    "text = text.replace(\"/\\\\\", \"\")\n",
    "\n",
    "\n",
    "# Write the cleaned text back to a new file\n",
    "with open(cleaned_filename, \"w\", encoding=\"utf-8\") as file:\n",
    "    file.write(text)\n",
    "\n",
    "print(f\"Cleaned text saved in '{cleaned_filename}'.\")"
   ]
  }
 ],
 "metadata": {
  "kernelspec": {
   "display_name": "transformer-1830",
   "language": "python",
   "name": "python3"
  },
  "language_info": {
   "codemirror_mode": {
    "name": "ipython",
    "version": 3
   },
   "file_extension": ".py",
   "mimetype": "text/x-python",
   "name": "python",
   "nbconvert_exporter": "python",
   "pygments_lexer": "ipython3",
   "version": "3.11.11"
  }
 },
 "nbformat": 4,
 "nbformat_minor": 2
}
