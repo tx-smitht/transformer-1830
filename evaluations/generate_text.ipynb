{
 "cells": [
  {
   "cell_type": "code",
   "execution_count": 16,
   "metadata": {},
   "outputs": [
    {
     "name": "stdout",
     "output_type": "stream",
     "text": []
    }
   ],
   "source": [
    "import sys\n",
    "import os\n",
    "import torch\n",
    "\n",
    "# Add project root to Python path\n",
    "notebook_dir = os.path.dirname(os.path.abspath('__file__'))\n",
    "project_root = os.path.abspath(os.path.join(notebook_dir, '..'))\n",
    "sys.path.append(project_root)\n",
    "\n",
    "from transformers.TokenTransformer import DecoderTransformer, SimpleTokenizer\n",
    "from config import *\n",
    "\n",
    "# Set device\n",
    "device = torch.device('mps' if torch.backends.mps.is_available() else \n",
    "                     ('cuda' if torch.cuda.is_available() else 'cpu'))\n",
    "print(f\"Using device: {device}\")"
   ]
  },
  {
   "cell_type": "code",
   "execution_count": 17,
   "metadata": {},
   "outputs": [
    {
     "name": "stdout",
     "output_type": "stream",
     "text": []
    }
   ],
   "source": [
    "# Initialize tokenizer with the same text used for training\n",
    "# Replace this path with your training data path\n",
    "with open('/Users/Tom/Documents/dev/deep-learning-edu/1828-embedding-model/transformer-1830/data/book_of_mormon.txt', 'r', encoding='utf-8') as f:\n",
    "    text = f.read()\n",
    "\n",
    "# with open('data/cleaned_dictionary.txt', 'r', encoding='utf-8') as f:\n",
    "#     text  += f.read()\n",
    "\n",
    "# with open('data/lady_of_perth.txt', 'r', encoding='utf-8') as f:\n",
    "#     text  += f.read()\n",
    "\n",
    "tokenizer = SimpleTokenizer()\n",
    "tokenizer.fit(text)"
   ]
  },
  {
   "cell_type": "code",
   "execution_count": 18,
   "metadata": {},
   "outputs": [],
   "source": [
    "def generate_text(prompt, max_new_tokens=100, temperature=temperature, top_k=top_k):\n",
    "    # Encode the prompt\n",
    "    encoded = tokenizer.encode(prompt)\n",
    "    context = torch.tensor([encoded], dtype=torch.long, device=device)\n",
    "    \n",
    "    # Generate new tokens\n",
    "    generated = model.generate(\n",
    "        context,\n",
    "        max_new_tokens=max_new_tokens,\n",
    "        temperature=temperature,\n",
    "        top_k=top_k\n",
    "    )\n",
    "    \n",
    "    # Decode and return the result\n",
    "    return tokenizer.decode(generated[0].tolist())"
   ]
  },
  {
   "cell_type": "code",
   "execution_count": 19,
   "metadata": {},
   "outputs": [
    {
     "name": "stdout",
     "output_type": "stream",
     "text": []
    }
   ],
   "source": [
    "# Initialize and load the model\n",
    "model = DecoderTransformer(\n",
    "    vocab_size=tokenizer.vocab_size,\n",
    "    n_embd=n_embd,\n",
    "    n_head=n_head,\n",
    "    n_layer=n_layer,\n",
    "    block_size=block_size,\n",
    "    dropout=dropout\n",
    ").to(device)\n",
    "\n",
    "model_path = os.path.join('../models/final_model_256_8head.pth')\n",
    "model.load_state_dict(torch.load(model_path))\n",
    "print(f\"Model loaded from {model_path}\")"
   ]
  },
  {
   "cell_type": "code",
   "execution_count": 20,
   "metadata": {},
   "outputs": [
    {
     "name": "stdout",
     "output_type": "stream",
     "text": []
    }
   ],
   "source": [
    "# Test the text generation\n",
    "prompt = \"The Lord said\"\n",
    "generated_text = generate_text(\n",
    "    prompt,\n",
    "    max_new_tokens=50,\n",
    "    temperature=0.9,  # You can override the default temperature\n",
    "    top_k=10          # You can override the default top_k\n",
    ")\n",
    "print(generated_text)"
   ]
  }
 ],
 "metadata": {
  "kernelspec": {
   "display_name": "transformer-1830",
   "language": "python",
   "name": "python3"
  },
  "language_info": {
   "codemirror_mode": {
    "name": "ipython",
    "version": 3
   },
   "file_extension": ".py",
   "mimetype": "text/x-python",
   "name": "python",
   "nbconvert_exporter": "python",
   "pygments_lexer": "ipython3",
   "version": "3.11.11"
  }
 },
 "nbformat": 4,
 "nbformat_minor": 2
}
